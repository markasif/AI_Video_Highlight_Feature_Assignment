{
 "cells": [
  {
   "cell_type": "code",
   "execution_count": 2,
   "id": "e4587599-0990-4953-85ca-f64b25a83b0f",
   "metadata": {},
   "outputs": [
    {
     "name": "stderr",
     "output_type": "stream",
     "text": [
      "C:\\Users\\apasi\\anaconda3\\Lib\\site-packages\\sentence_transformers\\cross_encoder\\CrossEncoder.py:13: TqdmExperimentalWarning: Using `tqdm.autonotebook.tqdm` in notebook mode. Use `tqdm.tqdm` instead to force console mode (e.g. in jupyter console)\n",
      "  from tqdm.autonotebook import tqdm, trange\n"
     ]
    }
   ],
   "source": [
    "import re\n",
    "import json\n",
    "import nltk\n",
    "from nltk.tokenize import sent_tokenize, word_tokenize\n",
    "from nltk.corpus import stopwords\n",
    "from sklearn.feature_extraction.text import TfidfVectorizer\n",
    "from sklearn.cluster import KMeans\n",
    "from keybert import KeyBERT\n",
    "from collections import defaultdict\n",
    "from difflib import SequenceMatcher"
   ]
  },
  {
   "cell_type": "code",
   "execution_count": 3,
   "id": "80370e5c-a48a-4692-8220-dbea37ac55b3",
   "metadata": {},
   "outputs": [
    {
     "name": "stderr",
     "output_type": "stream",
     "text": [
      "[nltk_data] Downloading package punkt to\n",
      "[nltk_data]     C:\\Users\\apasi\\AppData\\Roaming\\nltk_data...\n",
      "[nltk_data]   Package punkt is already up-to-date!\n",
      "[nltk_data] Downloading package stopwords to\n",
      "[nltk_data]     C:\\Users\\apasi\\AppData\\Roaming\\nltk_data...\n",
      "[nltk_data]   Package stopwords is already up-to-date!\n"
     ]
    },
    {
     "data": {
      "text/plain": [
       "True"
      ]
     },
     "execution_count": 3,
     "metadata": {},
     "output_type": "execute_result"
    }
   ],
   "source": [
    "# Download required NLTK resources\n",
    "nltk.download('punkt')\n",
    "nltk.download('stopwords')\n"
   ]
  },
  {
   "cell_type": "code",
   "execution_count": 5,
   "id": "4296f576-59b5-4cb8-bd1a-3b4a909e594b",
   "metadata": {},
   "outputs": [],
   "source": [
    "# Load the transcript text file and JSON file\n",
    "with open('transcript.txt', 'r', encoding='latin-1') as file:\n",
    "    text = file.read()\n",
    "\n",
    "with open('transcript.json', 'r') as file:\n",
    "    transcript_json = json.load(file)"
   ]
  },
  {
   "cell_type": "code",
   "execution_count": 6,
   "id": "a1b171c2-77f0-43dc-bd4a-8483c06b5ab5",
   "metadata": {},
   "outputs": [],
   "source": [
    "#cleaning  the data\n",
    "def clean_text(text):\n",
    "    # Remove newline characters and multiple spaces\n",
    "    text = text.replace('\\\\n', ' ').strip()\n",
    "    text = re.sub(r'\\s+', ' ', text)  # Replace multiple spaces with a single space\n",
    "\n",
    "    # Remove filler words and phrases\n",
    "    filler_words = r'\\b(um|uh|like|you know|uhh|basically|right|oh)\\b'\n",
    "    text = re.sub(filler_words, '', text, flags=re.IGNORECASE)\n",
    "\n",
    "    # Remove punctuation (except sentence-ending punctuation)\n",
    "    text = re.sub(r'[^a-zA-Z0-9.!? ]+', '', text)\n",
    "\n",
    "    # Split the text into sentences for further processing\n",
    "    sentences = re.split(r'(?<=[.!?])\\s+', text.strip())\n",
    "\n",
    "    # Capitalize each sentence properly\n",
    "    sentences = [sentence.capitalize() for sentence in sentences]\n",
    "\n",
    "    # Join sentences back into a single cleaned text\n",
    "    return ' '.join(sentences)\n"
   ]
  },
  {
   "cell_type": "code",
   "execution_count": 7,
   "id": "ff1ae4d0-e3d1-4132-a848-f1def549939d",
   "metadata": {},
   "outputs": [
    {
     "data": {
      "text/plain": [
       "'Theres two types of people whove watched my videos and message me theres the people and its not nowhere in between either they have fully pushed to the end and created  a full app that they love or they got stuck on  the first few steps and gave up once you get the aha moment where youre   this works and you realize that  youre in charge you dont need to ask anyone  influencer you dont need an influencer or a teacher you just need to ask ai you need to ask claude be  . Hey it didnt work for this. And it might not give you the  answer on the first try but odds are by the second or third try  you will will your way to a working app. I its guaranteed i just think it separates the high agency people and the low agency. People  pretty music well  riley welcome to the show this is a startup ideas podcast where we talk about startup ideas but were not necessarily talking about startup ideas today were talking about how to how to use some so ai tools to build software . . Yeah . Its gotten a lot easier to create websites  whether its landing pages all the way on the other side of the spectrum  creating apps  notion . I ive been creating i mean it takes six or seven hours if you  really want to go ham to create something that looks a lot  notion but with a full database storage and everything  fully with ai without writing a single line of code. So so  a 12 billion dollar company you can clone a lot of how it works. Well ill give notion credit i mean they have a lot of its. Its a the skeleton of these apps but  you can remix them as we were talking before this theres certain apps im  i wish i had this feature i wish i had this feature and this feature im  wait why dont i just kind of screenshot the app tell the ai  this is the general  kind generally the way that you use the app. And then you can just say but i also want to have these features and then if you have the grit to push through the errors because theres a lot of errors once you start dealing with databases but usually claude will figure it out and the more times you do it the better you will be at  fixing those errors and and you get better at problem solving just  anything and you can create some really cool things in  10 to 15 hours of practice and thats what were going to do today and by the end of this video youll have a good idea and then you can start playing with yourself and start creating software absolutely  do you want me to just hop into yes. All  lets just do this . Okay  has there cing session this is  live cooking youre the chef. All  lets lets do this here. Okay. So im going to share this screen is there been any good sas ideas that you guys have come up with i know you do those live sessions have you guys thought of anything recently yes  you want me to pull one up sure i mean its  the easiest way to use these tools is if you have some sort of idea in mind. But i guess without an idea in mind  lets  i guess ill talk about what tools i want to talk about today. So this  here is v0 so this is going to be  this is front end  and its using nextjs which i literally have not coded i 50 days ago i had never coded in my life so i was  the first day i found claw artifacts and then i started plugging that code into repet but what vz does is it lets you create these really cool front ends that look amazing and what we can do is we can say i want to create an app that help me out here. What do you  lets lets do something lets do a sas app  lets do  a f one of those faceless video app creators can we do something  that. Okay  . Yes thats harder. But. Yeah. Yeah  what about  what about  an app that took your transcript of one of your videos divided them into startup ideas and then made  a presentation out of them that sounds amazing because yeah lets do that okay . So lets just lets this is where you kind of look at the shell. Were not going to on vzer were not going to be able to add any ai features because thats all going to be done on the back end. So lets think about layout so  what types of things would you want if you  if you were to talking to someone on your podcast about startup ideas what would you want to know about them so  you have your  you have just  the idea you have i guess  business market how big it is how small it is i   for for me whats important is to know what are the other big audience internet audiences and communities  in that space so that just gives me more ideas. Okay. So i guess  lets just call it internet  audience  and then the idea is just the  main startup idea the market will be  market  market description. Yes and then market size and we can start with that because we can always add to it. But i think this is a good start. So i want you to create a lets call it a presentation card a presentation card  or slide as if it was going to be in a pitch deck about a startup idea. And i lets just say make it a really slick  design  with cool  subtle animations could you say could you say flat design shh dont tell anyone. But ive got 30 plus startup ideas that could make you millions. And im giving them away for free these arent just random guesses theyre validated concepts from entrepreneurs who built hundred million plus businesses ive compiled them into one simple database compiled from hundreds of conversations ive had on my podcast but the main thing is most of these ideas dont need a single investor some cost nothing to start im pretty much handing you a cheat cheet the idea bank is your startup shortcut just click below to get access your next cash flowing business is waiting for you instead of slick okay do slick slick slf flat flat is a type of design i just want to see if it it knows what that is its a little i dont even know i dont know what that is im curious im no designer but v0 lets me offload a lot of that and it also allows me to just  take things that i  and lets see were actually going to see it work in real time so see its kind of nice. And i  the  i  this actually so whats happening now is its literally building  the front end for this is that whats happening. Yeah . So we can actually see the code  here. So were going to be using nextjs i have a template that allows me to very quickly create nexj  nextjs apps so my partner and i an who is a developer and his main passion is  teaching people how to code. And hes been incredibly helpful in teaching me and so were building the most annoying part about coding is what he calls plumbing where you have to go in you have to set up all the libraries and you have to make sure that youre organizing your files in the proper manner and when i was first starting that would take me three hours just to get to the point where i could put an idea that i had into a website. But were actually just doing all of that work so that you could start from from that exact point where youve done all the plumbing where you still have all the possibilities youve just done all the boring work  install the libraries because vzero opera it has all of these different libraries already downloaded which is why it can render this normally youd have to download a bunch of things to do it because coding is a lot of just libraries and its kind of boring. But what you can also do on vz. You can actually say make changes so  make  changes to this card i want to  make changes to this card i want to have a border around the edges and add  clean add light dots in the background as if its graph paper  very  light. And  whats the word transparent. And i just want to go over the example that you can kind of alter these  and it just edits these live so itll look back at the one it previously created and it will create a new one and so this is a lot  clawed artifacts but  on steroids and this is crazy. Yeah. So you see that if you see those dots in the background it its kind of a nice little nice touch there and it added the nice border and so you can always go back and see so we can see this one and we can go back and look at the previous version which didnt have a border nor those dots can i add one quick thing. Yeah. I dont know how to. And i want to see how youd prompt this so on my podcast i say either an idea is sip or spit sip is if i really  the idea  startup ideas podcast and spit is if i really dont  the idea how can we put how can we do a prompt so we can show if the ideas is is sip or spit. Wow. Okay we could actually make this useful  wait hold on. Okay. What if you had  a section of your show where people submitted startup ideas to your show via a text prompt. Yes. And then it converted it into this. And then it gave you  a toggle where you could either drag it to the  for almost  tinder for sip or spit and based on what you do there then well add an animation left for  we could even add a sound effect too we could do that  and  we could even add little light background music too  let me think about this for a sec  okay see this is the fun part this is i i love this process of  coming up with an idea now im  thinking. Okay what have i done  this before  and i think i think i got it. Okay . So lets just describe this also i use voice a lot when im making these so i want to add an evaluation popup and this  i want you to include an icon and just have a placeholder  image of a person. And i want this to have i want to be able to drag this icon to the left which is spit and i or drag it to the  which is sip sip is positive spit is negative sip should be a green should be green spit should be red  add a positive animation to the entire card when it gets dragged to spit and change the color to  change the border color to green and for spit change the border color to red. And we can alter these animations too  and this will just take a second to load what i just said   the purpose of this is to evaluate this startup idea so that i can look an idea drag it in a certain direction and  we can label it as either good or bad which i call sip and spit i  to make sure i give it i tell it the purpose because it will actually use that in the prompt and it might add to its creativity so lets just try this and it might take a few times to get it  because this ones a little bit more advanced thats interesting that you gave it the purpose  you really did treat it  a a coworker. Well itll it knows what types of animations its trained on data. Whats it doing down here. Okay. Okay. Okay hold on is this a drag. My god wait this isnt make this a slider lets just make it a circle for now i was going to make it your face  once we actually make it into a thing so i want to  i want to drag the circle in a direction and that causes the green or red border  lets say the slider should be  below the card and and if you drag actually well add that next  should be  below the card the user should be able to drag it in either direction by the way im happy that mistakes are happening  now because the whole point of this video is for people to learn how how you approach problems too. Yeah. And i think people dont realize how on twitter in youtube you see all the highlight reels  of people creating amazing things with ai. And you can absolutely do that o. I  this dude thats actually amazing thats fire . All  please let me do it all  so lets see okay. All . So it says great idea and then  needs impr wait is there. You could add   tiar so  a mini spit or  pretty good idea. And then really good idea depending on how far you slide it we could do that pretty easily . But i i  the just its either a spit or a spit or a sip or a spit  please change the border color depending on the way  depending on  depending on the decision made by the user and then. And then the popup message you have at the bottom should be sip or spit  let me see what happens if we zoom out here. Yeah. Thats actually really clean  make the line thicker and the font for sip or or spit larger. Ill try that one so instead of  i went to computer science school so instead of writing code what youre doing is youre speaking english and then the code is coming out . I call it composing code  youre . Youre kind of  youre just kind of guiding it youre telling it what you want and  what things are feasible and what what types of things arent feasible the more you do it . And i think this looks a lot cleaner what are your thoughts on the line. Thickness solid. Yeah. Its its really nice. I  that its its thick . Yeah. Yeah. Okay. And then boom . All  lets just go one more one more   now i want to create multiple slides of this once. A decision decision is made it should go to the next startup idea. And then i should make  the same decision on the next one there should be an animation once i decide sip or spit make them positive or negative. All  last one and then we can i get nervous  im  what whats what are they going to come up with well you can always revert  i think you can retry this i actually havent used this is the first day ive used this specific tool but its very similar to the tools ive been using i think you can redo it so theres not a lot of pressure unless youre on a podcast  . Okay. Okay cool lets  lets just try it wait why does it its  reversed here. Okay wait let me reset this. I guess and while youre resetting it. I have one small design detail i would  yeah changed i really  the dots that you have in the back. But i dont find them pronounced enough is there anything you can you to help me absolutely hey  greg wants the  dots  less transparent so have them more prominent and also below the sip or spit bar  it has two labels which is sip and spit those should be reversed they should not you have the sip on the left and spit on the  please reverse those and the anim is kind of weird. But  thats okay we can always fix that later because i agree i think the dots i love the the dot look ive been using that a lot. Yeah . It adds a nice amount of of texture. Yeah . Even  hores or diagonal grid lines are fun too ive noticed that i will say i think knowing how to design or knowing some of the terminology is still going to be super helpful so  1000. No no act  1000 taste is everything  and its since i started doing this. Im now paying attention to every website i dont go to a website anymore without thinking   my god  how are they doing this or how can i replicate this or  what other tool could i create using this design method. And its its really fun and it helps you actually  develop your taste for websites and finding cool designs because a lot of the best designs and this applies to video editing as well its  below the level of your consciousness  you dont notice it unless youre looking for it. And its fun. Once you okay now it its flipped everything. Okay jesus  this actually looks better though  despite the the its off . It has sip on the left spit on the  so we need to ask for one more change lets just do this . And then we can move on so  sip should be on the  spit should be on the left and were just going to im just going to screenshot this is another good lesson . Actually im glad this happened actually we can screenshot this and you can actually bring it up and what im going to do here is im going to draw on this and so im literally going to im not going to use any colors weve already used before. And im just going to circle these. And im just going to say . And then i just screenshot it again and then copy it because it doesnt if you try and copy that it doesnt copy so now im just going to paste that image in there  and im going to say you see the labels. Those are the slides i just realized what that is those are the different slides  the first one is spit the second one is did  that or am i dont. Okay. No. Okay. So  its its  what its doing is i just realized what its doing. Is its . A  so once you go spit or here you see that its  thats your first the first one you did . So if i go but its reversed because theyre all its messed up so might we might so okay actually. Okay sip should be on the  spit should be on the left please switch them for the ones ive circled in blue  number those and make them gray no matter what the choice was because i think its kind of confusing when its  this or maybe we i dont know but lets just try this. But this is really useful to screenshot because we can screenshot any website we can go to any website you think is cool and literally screenshot it and then describe  what you should do with it and you can in one minute have a working prototype for it its not a full app because its not storing any of the data but it is a prototype its pretty cool. All  i hope we get it on this one good so far. Okay looks good now if we go sip boom now one was sip two is spit three is spit. And thats it. Its pretty cool pretty darn cool. Pretty darn cool quick ad break let me tell you about a business i invested in its called boring marketing.com so a few years ago i met this group of people that were some of the best seo experts in the world they were behind getting some of the biggest companies found on google and the secret sauce is theyve got a set of technology and ai that could help you outrank your competition so for my own businesses i wanted that i didnt want to have to rely on mark zuckerberg i didnt want to depend on ads to drive customers to my businesses i wanted to rank high in google thats why i  seo and thats why i use boring marketing.com and thats why i invested in it theyre so confident in their approach that they offer a 30day sprint with 100 money back guarantee who does that nowadays so check it out highly recommend. Boring marketing.com. Okay. So now lets have some more fun here now were going to use a tool that has been the most hyped tool since i dont know i cant even remember  for those of you wondering its called cursor and what i do so i have this template and you can link it below we created this template and weve  done all the dirty work so this is nextjs which v0 is also nextjs so you can do a lot of the same things and so thats where i come up with just general ideas about interface i take a bunch of screenshots and then that then ill give it to cursor to come up with the actual application ill show you guys here that i actually have lets go to my other account ive set up before this episode ive set up a backend or a database storage and a database storage and authentication so signing in with google and everything that you would need to actually turn it into an app  if you also want to gather emails or gain users thats all part of this template i dont know if well get there today but what i do with repet. So this is repet this is what the this is what we run the front end on this is how we deploy the application and we  connect cursor up to this because cursor its significantly harder to deploy apps for beginners repet makes taking whatever youve created and putting it on the internet with a domain that you can share  i can share my domain with greg and he can open the site and use the site and sign in or i can go to name cheep buy a domain and ill show you that process it takes  10 seconds and its hosted directly on rep and so  20 bucks a month or something you can host a website and get that and firebase is free until youve reached  a certain amount of users so its very very cheap now theres  no excuses to  to not get  an mvp up and vzero whats the cost of  what you did what are we talking v0 is either its either 15 or 20 bucks a month or something  my ai budget is over 000 a month so   i i lost track of the tools  but if you compare that to a frontend designer  15 a month  whats the hourly rate of a solid designer probably hundreds of dollars per hour  to me its a nobrainer. So this is repet what we need to do is we need to connect it to curser i dont believe ive done that . Yet so im actually going to close out of the project i was working on before and open up a new window and were just going to do this really quickly  for anyone who wants to use this template this will actually be cool you can just open the template and youre going to hit use template and this will take you exactly to this page then youre going to go  then what youre going to do is were just going to open up secrets i think ive already done this. But youll have to do this as well. And then were going to also open up ssh. And i have more videos on this if im going too fast but  what you need to do is you need to go to keys . And were actually just going to put this aside for now so were going to leave it open with this keys tab in cursor youre going to press this button down here to open up the terminal youre going to press command k were going to type  generate an ssh key for repet name it repet and copy the public key to my clipboard this seems scary because it is i still dont fully understand what im doing but this is how you set it up youre going to press youre going to click on whatever it generates  here  after it enter y enter enter that automatically copies this ssh key that you then add  here im going to name it sip. Then im going to hit add key then im going to hit connect im going to copy this connect manually key and were going to hit open with ssh were paste it here were not going to hit enter were going to press add new ssh host and were going to paste it in  here and hit enter were going to click the top one click connect click continue. And then were almost there you only need to pay attention to this if you actually want to use cursor but cursor is by far the most fun tool ive ever is the best software ive ever used in my life so youre going to want to pay attention you might want to try it . Okay. So then youre going to click on this this should match  the name of the project which it does sit pod and were going to hit. Okay. So now theyre synced  the template that i made  with an. And he put in the heavy lifting hes a developer repet makes it very easy to share templates and makes it very easy to deploy so you can very quickly download it and you can then write code and create stuff with it the editor on cursor is a lot better so were bas  connecting repet and were connecting cursor now weve done that now were just going to were going to open up the files that we need here so in source app and were just going to hit page. Tx tsx and this is  the homepage of this of this template and now we can use the composer which is the feature that is why cursor is going so viral this  allows us to edit multip pages at once and so we can then come here and say and were actually just now building this out so im not fully confident this is going to work but im going to take a risk here im going to say  or im going to just say this is a next  js app trying to think of how we should do this okay lets do this in order here. So im going to create a this nextjs app. And i want you to  i want you to i just dont know how we want to start  when should we add the ai features to  im just going to start off i want you to to  take the  take inspiration from and what were going to do is were going to use this paths so chat. Md ill explain this after i do it actually weve used the template to create apps and when we do that success successfully with a certain prompt we add it to the project files so that other people can come here and use inspiration from the files that weve used and so the end game of this would be a blank template where you can create anything but theres kind of 30 paths you can go down of different types of apps whether its note taking basic chat app  and so lets just say i want you to take inspiration from chat md and lets create  a basic chatbot where the user will put in a startup idea and you will output the idea in lets go to v0 real quick lets just screenshot this co copy this nope copy this paste that in  output the idea in text format  in format in this met with these ideas ignore the styling i dont want to worry about styling until a little bit later i just want to get the ai text feature down so just have  idea market and internet audiences anytime you deal with ai features it gets tough  this is when you run into a lot of bugs i mean this is a hard thing to create and so the fact that you can do it in just a few bugs is impressive  lets just go ahead and lets just see what it does so im going to hit command shift enter which will actually so now its looking at all of these files which i never told it to use all of these files its just going through  we can watch it code in the background  its literally making changes  and telling us exactly what we need to do  now it says npm install open ai edge. Okay i hope thats the  install anytime it says install something npm install open ai edge what you need to do is you need to go to repet. And you need to go to your shell and you need to paste that in  here and it does some magic stuff i still dont understand it  its its downloading libraries that it needs to do this action so now what we can do is what im going to do is. Im going to reset this so im going to hit the stop running. And then im just going to rerun it and then open up the web view in theory the changes will be made after i hit save all  im going to hit save all i dont know if itll be added to the homepage . Yet we may need to connect it the the app that it just created back to the homepage so i dont know if its going to change anything anything so im going to hit save. All okay it is doing something its hard to tell i dont see any errors. Okay. So now we have this startup idea analyzer after one single prompt and we havent accepted those changes yet if youre using cursor hit save all instead of accept all accept all is not reversible you have to ask the ai to reverse it instead of just being able to  hit reject i can still hit reject because i hit save all just throwing that out there okay startup idea  lets go ahead. And i have a startup idea for selling  gummy bears at football games what were testing here is we just want to know if this works. . So you just put in a test idea you might want to add one other thing  what other stuff did we have we had the market  football games in germany just to give it a market. Okay lets hit analyze idea . So whats going through your mind  . Now. Yeah. So what weve done here is in this template that were literally making i this is one that were  in production making and  this was a good test for me so we have secrets in here so these are all api tokens so we have the opening ai api key the  replicate api key. So these are all tools that you can use on the web that allow you to do cool things . And a popular term is  open ai rapper and what that is is just a software that someone created and its using open ai and paying them a little bit every single time its used so youre hoping that the monthly charges that youre charging people will outweigh the amount youre paying open ai for the usage  and you can use as many of these different apis and a lot of  a tool light notion is using a ton of different apis if you if it has google drive all these different applications but in this case for some reason its not working so what im going to do is literally just tell cursor. Okay when when i entered my idea into the input field nothing happened need it to generate the  the output that we discussed and it has context of this so itll know what youre talking about. And i just sometimes add please make this happen or  i dont know you dont have to do that . And im just going to hit  im first sometimes youre mean youre mean to to them is that what i i was hearing only when i get mad only when its  fails 10 times in a row and im honest l glad this happened i have talked to theres two types of people whove watched my videos and message me theres the people and its not nowhere in between either they have fully pushed to the end and created  a full app that they love or they got stuck on  the first few steps and gave up once you get the aha moment where youre . This works and you  and you realize that  youre in charge you dont need to ask anyone  influence you dont need an influencer or a teacher you just need to ask ai you need to ask claude be  hey it didnt work for this and it might not give you the  answer on the first try but odds are by the second or third try  you will will your way to a working app  its guaranteed you just have to have i just think it separates the high agency people and the low agency. People  pretty well something ive noticed  so were just going to. I should not have hit accept all. But thats i was just going to say you slide devil you. Its. Okay. Well well be fine  lets go ahead and refresh this i dont know why theres these  horizontal lines here lets that might be a function of a bad  template prompt. So lets just paste in what we had earlier  which was the gummy bears in germany can you please use the open ai. Wait hold on  moment incoming open ai key in your environment variable which we do its. Open ai key  it should be called open ai key  it is called open ai key can we please use the i think we should make this an input field first and then use the ai features because were going to want the ai to fill them in in specific ways well see this is the hard part this is hard to make content on this because youre  . Okay we need can you please add error logs to the  to the ai input field i have no way of knowing what the problem is fair request is that something youve said before . Yeah. So ive been doing this a lot . Well usually you should get an error. The most annoying part about this is were not getting any error its just literally doesnt say anything  it should say either it should say a host of different things it should either say api is failing because  you have an incorrect api key it should literally just tell us what the problem is  but its not telling us anything so we need to enter the sends probably going to fail analyze the idea. Somethings wrong i dont know whats going on  hold why is there no error. Okay. I want to change the page well well add the ai features second because i do want to add that. Okay. I want to change the page  the startup idea analyze to just be an input field and an enter button  for all the fields  to create  for all the input fields to create a slide that looks  this and what were going to do is were going to just paste this in here here. Is the code that i use to design this card  based on the input field i want  this to be created for that card. Okay now im going to come over to v0. And im just going to im just going to paste in here. And well let it because it needs to recreate it its not going to use the code because its already has libraries downloaded so this is fine. Okay. So whats happening i just  im changing strategies here so rather than have ai generate out in text form the startup idea in the format that we want instead im going to create text input field so were going to manually put them in. And then we can ask ai to take an idea and in the background  fill those in so were actually just recreating the process if you dont know to code this is a good way to do it is to actually create it manually and then say i want to automate this process and have that whole process happen in the background so  the user doesnt see it  because i dont really know how theres a whole thing with ai and object creation its i dont fully understand it. So you can use. Other okay. So we need to install this. So lets install  frame or motion so were going to come over to the  were going to come over to this  here were going to go to the shell because you see npm that means shell were going to type in shell. And were just going to paste this in  this. And so its installing framer motion and loose side react which is icons i believe  we might have already had both of those downloaded not sure in the template but now im going to just stop this rerun it. And were going to open up the web view and lets go ahead and press save all. Brother i did something wrong this is the process. I know what i can do. Okay. Im justess going to revert here i really do think we need to do better instructions from the getgo im just going to im just going to do . Music it. Okay good good this is how it should have looked when we were getting errors  because this makes it very easy for us to it says we dont see frame or motion so we can just easily paste in error please advise and fix error messages are good blank screens are bad . This is what should have popped up in the dev log. We should see the the errors  here. And it actually knows what to do  and we can actually just see how it reacts so we can hit  save all. And then were going to refresh  i think it fixed one i think there was multiple errors. And now were only getting i think were getting i think this will fix. Do i need to add  i need to add frame or motion. Okay. Okay . Im so out of my element  now  still getting this error thats good by the way because most people are out of their element so this is bad for retention  its yeah . But the real ones are here deep deep in this episode theyre with music us now we need to i need to know or now i know that what i need to do is add to the template a  a v02 repet   path so we need to work out these kinks that i worked out on this podcast or encountered on this podcast and just include it. But were here now so lets go ahead and just accept this now im going to hit refresh and what i want to do is we are on lets go to we are in the. So were in source app page. Okay. So this is what were on so we want to stay on this page  here i want to be able to edit these on the site the existing page should be the evaluation page this is the final page where i will evaluate all of these startup ideas what i need at the top of the screen or at the top of this page is a an input so it should look identical. So i should be able to add these slides in the identical manner except i want to be able to add my startup idea to one of these cards and then i want to be able to submit it in which it will move to the evaluation stage which is part two lets just try this  okay i feel  there was a little bit of bugs on this part  here cuz  when i hit spit sip. I guess thats fine i guess the bar is red . And then yeah its still kind of buggy. But thats okay. Yeah . Its totally. Okay. I mean just having music something were going to this is a good lesson for anyone still watching  were going to open up perplexity here and im going to say give me the latest  docks necessary for what i want to do. And im actually going to say latest api docs for what i want to do i am trying to get open ai  chat gpt to analyze a  transcript and fill in data based on that because the the docs are going to be different depending on  just a chat versus actually having a structured output  its actually much more advanced than just  a standard chat bot. So yeah perplexity will actually find the latest documentation its just going to give better instructions we can feed it to cursor which will allow it to make better decisions write better code and thats a really big thing for and  wait i need this i am using nextjs please recreate and you have to make sure that  so it should give us nodejs i believe. Okay. So here its giving us the javascript yes this looks good. So were just going to copy this whole thing and im just going to say here is open ai documentation all  well see. I ive never done this before actually. But i think we could figure it out. Okay. So while we do that im have you ever heard of cubby. I havent so i was actually toying with this idea before so  cubby is  a it likes you can very quickly save  youtube videos  and it just automatically copies the transcript. And then you can  play it from any point so i can  highlight this part  here and play it from that exact part. And you can highlight different parts of it. But  lets just go ahead this is a really long one if i remember. Okay  i guess lets just lets just see in the first 17 minutes of this one i dont want to get messed up by too long of context so well just copy that real quick. And we can close that out  now im going to hit save and were going to go to web view. Okay nice. Its coming together please work  were gonna paste this in here . Yeah that looks about . All  so lets see  analyze transcript come on theres no way this works why is open ai giving me  no errors can you change this to anthropic please  give me anthropic anthropics api for the same name use case it looks good though  we have every we have all the shell in place  we have the analyze. The transcripts  you could just  literally download your transcript or you could use a transcript api but youtubes starting to block those  you could automatically once your video is uploaded and your transcript is uploaded it  just automatically pulls it analyzes it for startup ideas or  i forgot that where we might actually have it just be  your viewers just uploaded. But i really wanted this to work see i didnt know you can do that i didnt know you can just change from open ai to anthropic. Yeah. I mean its it changes the code i mean they have different documentation so  either one were going to be downloading we use npm install anthropic and it has different rules. . But im pretty sure ive already im just going to do this again just in case i havent done it  now that i think about it im not sure but lets go to secrets new secret value  paste that in so this is a next this is whats different than the normal projects that ive been creating why is this giving me no api errors nothing i want to at least know what the problem is so its so cool. Its kind of  youre youre talking to your engineer friend and theyre helping you. Yes and the more experience you have clearly im out of my element because two days ago was the first time i tried nextjs and so i had a previous template that i was using with just react react and typescript and the reason we switched is because you had to set up the a full se separate repet for a backend api but it was actually i understand it a lot better. So  when you enter a new territory which i am  now with nextjs you get caught up because you dont know what the problem is because i havent been dealing with nextjs problems as much  anthropic api key . Yes we have all that in there  lets just hit save all analyze transcript just give me an error please see this this actually lets you solve the problem we got an error so ask it to find a way to give you an error which is called error logging i think . And im just going to paste in this error please fix this problem insane that you can do that its fun. But its annoying. Its so annoying . And you it sometimes it leads to nothing so you got to carve out  two two or three hour more time than you think you need at first and then eventually youll get better once youve mastered and if we just use  python . And we didnt care about how good it looks it would be much easier to create because python is very straightforward and ai is very good at creating it it just wouldnt create those you cant use v0 for python  using  its just not compatible . Okay. So lets just hit  save all  let me see see here. Okay now lets see what the issue is  whats interesting about subcategory on amazon analyze transcripts sending transcript for analysis see now we have better logging we can actually see whats happening here. Okay were getting another error . And im going to ask first can you please tell me if this is the same error as last time  if it  and give me some more information on that then fix the error. Please i just want to know. And were going to run it music again. Okay. Well try one more time please make sure that the anthropic  api response is properly parsed and be lenient i really want this to work so just make this work if this doesnt work well try what i said previously because i think that would work because i think its coming through its just failing to parse it we needed to plea with it. H we needed to plea with it we needed you got personal with it. Yeah we need to negotiate we need . Yeah. Im pretty sure its anthropic api key . Yeah  lets hit save all . Is this correct was that one of the ideas they talked about in the episode . Yeah. I i cant believe i actually cant believe it it works i literally canot believe that thats one of whats a lit rp whats a lit rpg lit rpg is just this yeah literature role playing game. Its  a very niche audience that this guy nicholas cold was talking about that theres huge opportunity to create books for and were these things that you guys talked about or is it using ai to guess wait this actually. Kind of cool. I might use  im pretty sure we talked about it and did you use 250000 per month im just trying to figure out what the ai is guess. Okay. So its literally summarizing it nice. Yeah. Okay summarizing . Yeah . Actually i dont know i dont know if we said 250 we might have said  a 100. And i see to the side it says projected market size by 2028. So maybe it  put some  compound annual growth rate to it. No its good . Its good you have to play with it  its good to know which where its  wait. And so. Okay. So. Okay. So we can add new idea so that added the idea . Okay now i want for  because if we were doing it on the old template i would know how to set it up so users could literally go to a site called greg sippers spit. Comom and they could sign in and upload their ideas and then you would once you hit  you could hit  show all. And then you could  go through them and see  sheila said that had this. And you could literally turn it into a segment in your podcast but i dont know how to do it with this new template  but i will get that  h lets open back up cubby lets see what happens here . So lets go later in the episode and lets just grab you guys talked about multiple  three startup ideas. Okay wait. Whoa  it just did two in that one i think. Yeah it did wait so. Niche publishing house sip. Yeah. Ai powered niche publishing house a publishing company that uses ai to generate 80 of niche genre books with human writers to finish the last 20 is that one you talked about. Okay  spit only this isnt real is it the only fans creator book partnerships partnering with only fans creat i think we might have said that. Yeah. Really okay . Damn. Okay. Well then did this might just work actually wait i think we might reach a context limit here i saved. Lets go to different one here lets just grab all of them  this one is the same one whats a shorter one five validated startup ideas. Okay. So were just going to do the first half of this one because i think were going to get cut off actually it is anthropic it might be able to just do all of them lets see lets just see if we get an error come on no way all  it just works lets go i am so thank god. I was feeling the pressure wait so now lets just change this to spit real quick. Okay facebook reals optimization tool it sounds about about  wait this one was with. I think i actually watched this one  no just kidding. Yeah this is this is this was. Yes this is from this episode chris he did talk i just want to make sure this is . So he did talk about this okay  lets sip this programming seo agency franchise . Yes. Okay. Ai content repurposing tool . Thats . Yes lifetime warranty product. Yeah all these things all  this is is working we can just go through and grab all your  podcasts and just  see all the ideas  all . And we wont have time for it today but couldnt you automate that yes . Yeah. That would take a little i mean then we would need to  theres i mean thats a thats a really valuable thing and if you want to create something of value. Yeah it would probably take me another two hours plus another a while to debug and  i might actually need help to fully deploy it properly because thats a really hard thing  youre  scraping transcripts then you are putting it through this process youre then saving them. And  i mean actually if we had another hour im sure we could figure it out but lets just paste this in and lets hit analyze transcript com comment on youtube  if you want riley to come back some other time if if hell bless us do  this one  wait im just curious on. Which one. This is see this this feels  a cody schneider just  looking at the transcript. Damn this just got i just uploaded this an hour and 22 minute episode. And it got it went from 8 to 15 . So lets just see what this looks  full screen. So this is the app startup idea evaluator you paste in your transcript and then . Yeah. So then this is this one so you have a linkedin video content agency for founders  the ai automation consulting for small businesses i dont know if you talked about that im pretty sure these are all yes. Okay nice. All  this works  o formatting gets a little rough after after 10. But thats fine thats easily fixable. Yeah . . Yeah dude i feel  send me your invoice i feel  after this i owe you 100000 from this n dude. Ill  ill figure out how to deploy it. Well  ill just  send you the the link you can use it amazing. So greg were about an hour and 15 minutes after we finished  the episode. But ive added the ability to just paste in a link and we can hit load transcript then i can actually type in what i want to look for so startup ideas . So i kind of turn this into a general app something that i might use to analiz a transcript and maybe look for ai news or coding ideas or something along those lines. But we can just paste this in and hit analyze transcript should load any second now boom so four  total ideas extracted and now what we can do  and i just put jot. Jot it down or not  instead of sip or spit now we can click this button and it actually saves it  up here so this is sponsorship library tool and we can hit jot. And we see it up here sponsorship library tool and then if we dont want it we can hit not and we have now all done so its kind of a full app experience i think  where we ended the episode was  when it starts to get fun because you can actually start making  smaller changes and now we can save these to your profile we could in theory add the ability to edit them so you can refine them and kind of into a little notebook of your startup ideas that you have sipped or spit it is 741. And weve added another update so this is where were at now we can officially sign in  if i refresh the page here you can see it . But it automatically takes you to my profile the app works as normal except now we can see all sips so we can see all of them. And so now every single video that we do so now if we do interesting ideas. And i paste it in another transcript from greg  hit load transcript  analyze transcript  what this will do it should load in the se all sips as this interesting idea is here so what we can do is we can hit  so lets just sip so now theres five interesting ideas from this one so sip sip  what lets spit this one and well sip this one and so we go through all those now we can see all sips so now we have interesting ideas in here where do you want to leave people  theyve watched this and there was ups there were downs but we ended up in a high  what do you want whats one piece of advice you want to give to people. Yeah. Okay. So  i guess  i have never claimed to be an expert at this. I love learning  i love  the act of  learning things and  diving deep into rabbit holes. And im actually just this why ive partnered with an whos very good at  at what he does. And hes an expert developer he is a senior developer in every sense hes started companies and so were working together and were going to try and create a community and eventually help a million people learn how to code without having to write how   learning how to write code and by the time you watch this i think its going to be software composers tocom  now its senior  senior s  see the fact that i dont even know we lally bought the domain yesterday and threw the community up and weve  its called software composers senior software composers and since the tool that you just saw me using was composers  was the composer feature incursor and youre kind of just composing your way  figuring out your way through the bugs. And so were  just creating a community of people who want to do that were going to be releasing very indepth course  indepth courses that im  going to take and and then everything that i learn im going to put out step by step and were going to do weekly calls help people through their bugs and every person who joins the  the software composers is going to get  weekly help with their projects every single persons going to create an app fully deploy it were going to talk about stripe integration which im really excited about actually monetizing these apps which is actually one of the hardest parts of apps especially if you have  multiple different plans  . But were gna talk about all of it so thats what im working on im joining . I ill definitely join once its live i for me all this stuff  curse or repet all these new tools  its about getting your hands dirty. And its about  treating it as  a creative process  even if you dont end up . Yes some of these businesses some of these projects can turn into businesses and who knows  create real wealth and everything but sometimes its just fun to do this and and to   you said solve problem so thanks for coming on here and  ill see you  ill see you next time. Yeah . See you appreciate it this was a lot of fun im thank god. It worked at the end there thank god. It worked dude imagine didnt worked that would have that would have sucked there would have been no it was it would have been a buildup to nothing so thank god it worked. I had i had fun doing that. So. Yeah. And if you  this sort of stuff  this on youtube to get more of this in your feed and subscribe music.'"
      ]
     },
     "execution_count": 7,
     "metadata": {},
     "output_type": "execute_result"
    }
   ],
   "source": [
    "# Apply the updated cleaning function\n",
    "cleaned_text = clean_text(text)\n",
    "cleaned_text"
   ]
  },
  {
   "cell_type": "code",
   "execution_count": 6,
   "id": "fc39718c-5a62-4017-b29f-5b8c382ff29b",
   "metadata": {},
   "outputs": [],
   "source": [
    "# Step 2: Preprocess by removing stopwords and tokenizing\n",
    "stop_words = set(stopwords.words('english'))\n",
    "def remove_stopwords(sentence):\n",
    "    words = word_tokenize(sentence)\n",
    "    filtered_words = [w for w in words if w.lower() not in stop_words]\n",
    "    return \" \".join(filtered_words)\n"
   ]
  },
  {
   "cell_type": "code",
   "execution_count": 7,
   "id": "4053bc8a-63bb-4304-bd2f-cdc57bbd425d",
   "metadata": {},
   "outputs": [],
   "source": [
    "# Preprocess the cleaned text\n",
    "preprocessed_text = remove_stopwords(cleaned_text)\n",
    "sentences = sent_tokenize(preprocessed_text)"
   ]
  },
  {
   "cell_type": "code",
   "execution_count": 8,
   "id": "68fb6a8a-a806-43d4-9269-838eb541948e",
   "metadata": {},
   "outputs": [],
   "source": [
    "# Step 3: TF-IDF Vectorization\n",
    "vectorizer = TfidfVectorizer(stop_words='english')\n",
    "X = vectorizer.fit_transform(sentences)"
   ]
  },
  {
   "cell_type": "code",
   "execution_count": 9,
   "id": "829efc8b-eb7a-4da1-96f5-5e15a1004b1a",
   "metadata": {},
   "outputs": [],
   "source": [
    "# Step 4: KMeans Clustering (you can adjust the number of clusters)\n",
    "num_clusters = 4\n",
    "kmeans = KMeans(n_clusters=num_clusters, random_state=0).fit(X)\n"
   ]
  },
  {
   "cell_type": "code",
   "execution_count": 10,
   "id": "0044e3c4-2b40-4570-b93f-0956c8a9bdbd",
   "metadata": {},
   "outputs": [],
   "source": [
    "# Step 5: Group sentences by clusters\n",
    "clustered_sentences = {i: [] for i in range(num_clusters)}\n",
    "for sentence, cluster in zip(sentences, kmeans.labels_):\n",
    "    clustered_sentences[cluster].append(sentence)\n"
   ]
  },
  {
   "cell_type": "code",
   "execution_count": 11,
   "id": "d43f9969-96d0-4118-814d-ff03d3b50f67",
   "metadata": {},
   "outputs": [],
   "source": [
    "# Step 6: Extract keywords for each sentence using KeyBERT\n",
    "kw_model = KeyBERT()\n",
    "sentence_keywords = {}\n",
    "for sentence in sentences:\n",
    "    keywords = kw_model.extract_keywords(sentence, keyphrase_ngram_range=(1, 2), stop_words='english', top_n=3)\n",
    "    sentence_keywords[sentence] = [kw[0].lower() for kw in keywords]\n"
   ]
  },
  {
   "cell_type": "code",
   "execution_count": 12,
   "id": "c1cf0ec1-bc7c-49f5-90ff-761cf5de5308",
   "metadata": {},
   "outputs": [],
   "source": [
    "# Step 7: Function to calculate string similarity\n",
    "def similar(a, b):\n",
    "    return SequenceMatcher(None, a, b).ratio()"
   ]
  },
  {
   "cell_type": "code",
   "execution_count": 13,
   "id": "de38a919-e469-48af-baef-bddb4de25e17",
   "metadata": {},
   "outputs": [],
   "source": [
    "# Step 8: Match sentences with timestamps from the JSON transcript\n",
    "def match_sentences_to_time(sentences, transcript_json, threshold=0.5):\n",
    "    matched_times = []\n",
    "    for sentence in sentences:\n",
    "        for segment in transcript_json:\n",
    "            if similar(sentence.strip().lower(), segment['text'].strip().lower()) > threshold:\n",
    "                matched_times.append({\n",
    "                    'start_time': segment['offset'] / 1000,  # Convert to seconds\n",
    "                    'end_time': (segment['offset'] + segment['duration']) / 1000,  # Convert to seconds\n",
    "                    'text': sentence\n",
    "                })\n",
    "                break\n",
    "    return matched_times\n",
    "\n",
    "# Call matching function\n",
    "matched_times = match_sentences_to_time(sentences, transcript_json)\n"
   ]
  },
  {
   "cell_type": "code",
   "execution_count": 14,
   "id": "bc987813-2ca5-4df2-9458-4c720a3c4553",
   "metadata": {},
   "outputs": [],
   "source": [
    "# Step 9: Categorize sentences based on keywords\n",
    "keywords_dict = {\n",
    "    'AI-Assisted App Development': ['ai', 'app development', 'software'],\n",
    "    'User Interface and Design': ['user interface', 'design', 'ux'],\n",
    "    'Entrepreneurial Mindset': ['startup', 'entrepreneurial', 'business'],\n",
    "    'Tools and Technologies': ['technology', 'tools', 'software']\n",
    "}\n",
    "\n",
    "def classify_sentence(sentence):\n",
    "    for category, keywords in keywords_dict.items():\n",
    "        for keyword in keywords:\n",
    "            if keyword in sentence.lower():\n",
    "                return category\n",
    "    return None"
   ]
  },
  {
   "cell_type": "code",
   "execution_count": 15,
   "id": "90233761-2f8c-4f8a-9bc5-dc8197c7f0a2",
   "metadata": {
    "scrolled": true
   },
   "outputs": [
    {
     "name": "stdout",
     "output_type": "stream",
     "text": [
      "[\n",
      "  {\n",
      "    \"start_time\": 295.96,\n",
      "    \"end_time\": 298.24,\n",
      "    \"text\": \"going vzer going able add ai features thats going done back end .\"\n",
      "  },\n",
      "  {\n",
      "    \"start_time\": 61.6,\n",
      "    \"end_time\": 64.199,\n",
      "    \"text\": \"ive got 30 plus startup ideas could make millions .\"\n",
      "  },\n",
      "  {\n",
      "    \"start_time\": 666.639,\n",
      "    \"end_time\": 669.72,\n",
      "    \"text\": \"Okay could actually make useful wait hold .\"\n",
      "  },\n",
      "  {\n",
      "    \"start_time\": 309.72,\n",
      "    \"end_time\": 311.8,\n",
      "    \"text\": \"section show people submitted startup ideas show via text prompt .\"\n",
      "  },\n",
      "  {\n",
      "    \"start_time\": 832.36,\n",
      "    \"end_time\": 836.079,\n",
      "    \"text\": \"Well itll knows types animations trained data .\"\n",
      "  },\n",
      "  {\n",
      "    \"start_time\": 922.839,\n",
      "    \"end_time\": 927.399,\n",
      "    \"text\": \"says great idea needs impr wait .\"\n",
      "  },\n",
      "  {\n",
      "    \"start_time\": 280.24,\n",
      "    \"end_time\": 283.12,\n",
      "    \"text\": \"decision decision made go next startup idea .\"\n",
      "  },\n",
      "  {\n",
      "    \"start_time\": 1113.48,\n",
      "    \"end_time\": 1118.159,\n",
      "    \"text\": \"Okay cool lets lets try wait reversed .\"\n",
      "  },\n",
      "  {\n",
      "    \"start_time\": 248.72,\n",
      "    \"end_time\": 253.959,\n",
      "    \"text\": \"Okay wait let reset .\"\n",
      "  },\n",
      "  {\n",
      "    \"start_time\": 1129.24,\n",
      "    \"end_time\": 1132.28,\n",
      "    \"text\": \"one small design detail would yeah changed really dots back .\"\n",
      "  },\n",
      "  {\n",
      "    \"start_time\": 2022.76,\n",
      "    \"end_time\": 2025.399,\n",
      "    \"text\": \"Okay hope thats install anytime says install something npm install open ai edge need need go repet .\"\n",
      "  },\n",
      "  {\n",
      "    \"start_time\": 2107.44,\n",
      "    \"end_time\": 2112.64,\n",
      "    \"text\": \"startup idea selling gummy bears football games testing want know works .\"\n",
      "  },\n",
      "  {\n",
      "    \"start_time\": 156.08,\n",
      "    \"end_time\": 158.2,\n",
      "    \"text\": \"tools use web allow cool things .\"\n",
      "  },\n",
      "  {\n",
      "    \"start_time\": 2327.0,\n",
      "    \"end_time\": 2331.28,\n",
      "    \"text\": \"lets paste earlier gummy bears germany please use open ai .\"\n",
      "  },\n",
      "  {\n",
      "    \"start_time\": 2338.359,\n",
      "    \"end_time\": 2341.16,\n",
      "    \"text\": \"Wait hold moment incoming open ai key environment variable .\"\n",
      "  },\n",
      "  {\n",
      "    \"start_time\": 2445.0,\n",
      "    \"end_time\": 2446.8,\n",
      "    \"text\": \"want change page well well add ai features second want add .\"\n",
      "  },\n",
      "  {\n",
      "    \"start_time\": 363.72,\n",
      "    \"end_time\": 366.639,\n",
      "    \"text\": \"code use design card based input field want created card .\"\n",
      "  },\n",
      "  {\n",
      "    \"start_time\": 2022.76,\n",
      "    \"end_time\": 2025.399,\n",
      "    \"text\": \"going copy whole thing im going say open ai documentation well see .\"\n",
      "  },\n",
      "  {\n",
      "    \"start_time\": 3381.0,\n",
      "    \"end_time\": 3383.28,\n",
      "    \"text\": \"Actually dont know dont know said 250 might said 100 .\"\n",
      "  },\n",
      "  {\n",
      "    \"start_time\": 3398.28,\n",
      "    \"end_time\": 3400.64,\n",
      "    \"text\": \"good play good know wait .\"\n",
      "  },\n",
      "  {\n",
      "    \"start_time\": 1109.679,\n",
      "    \"end_time\": 1113.48,\n",
      "    \"text\": \"Okay wait .\"\n",
      "  },\n",
      "  {\n",
      "    \"start_time\": 142.48,\n",
      "    \"end_time\": 143.56,\n",
      "    \"text\": \"Yeah wait .\"\n",
      "  },\n",
      "  {\n",
      "    \"start_time\": 3509.76,\n",
      "    \"end_time\": 3513.119,\n",
      "    \"text\": \"Well might work actually wait think might reach context limit saved .\"\n",
      "  },\n",
      "  {\n",
      "    \"start_time\": 3528.599,\n",
      "    \"end_time\": 3531.559,\n",
      "    \"text\": \"Lets go different one lets grab one one whats shorter one five validated startup ideas .\"\n",
      "  },\n",
      "  {\n",
      "    \"start_time\": 3550.4,\n",
      "    \"end_time\": 3553.72,\n",
      "    \"text\": \"feeling pressure wait lets change spit real quick .\"\n",
      "  },\n",
      "  {\n",
      "    \"start_time\": 3556.76,\n",
      "    \"end_time\": 3559.68,\n",
      "    \"text\": \"Okay facebook reals optimization tool sounds wait one .\"\n",
      "  },\n",
      "  {\n",
      "    \"start_time\": 1663.799,\n",
      "    \"end_time\": 1666.279,\n",
      "    \"text\": \"Ai content repurposing tool .\"\n",
      "  },\n",
      "  {\n",
      "    \"start_time\": 59.6,\n",
      "    \"end_time\": 61.6,\n",
      "    \"text\": \"app startup idea evaluator paste transcript .\"\n",
      "  },\n",
      "  {\n",
      "    \"start_time\": 3883.68,\n",
      "    \"end_time\": 3886.799,\n",
      "    \"text\": \"guess never claimed expert .\"\n",
      "  }\n",
      "]\n"
     ]
    }
   ],
   "source": [
    "# Step 10: Compile final output in the desired format\n",
    "output = []\n",
    "for sentence in sentences:\n",
    "    category = classify_sentence(sentence)\n",
    "    if category:\n",
    "        matched_time = match_sentences_to_time([sentence], transcript_json)\n",
    "        if matched_time:\n",
    "            output.append({\n",
    "                'start_time': matched_time[0]['start_time'],\n",
    "                'end_time': matched_time[0]['end_time'],\n",
    "                'text': sentence\n",
    "            })\n",
    "\n",
    "# Print the final output in the specified format\n",
    "formatted_output = []\n",
    "for item in output:\n",
    "    formatted_output.append({\n",
    "        \"start_time\": item['start_time'],\n",
    "        \"end_time\": item['end_time'],\n",
    "        \"text\": item['text']\n",
    "    })\n",
    "\n",
    "# Display the formatted output\n",
    "print(json.dumps(formatted_output, indent=2))"
   ]
  },
  {
   "cell_type": "code",
   "execution_count": null,
   "id": "fbae01b8-18c1-4720-8a66-b4a2843efbfc",
   "metadata": {},
   "outputs": [],
   "source": []
  }
 ],
 "metadata": {
  "kernelspec": {
   "display_name": "Python 3 (ipykernel)",
   "language": "python",
   "name": "python3"
  },
  "language_info": {
   "codemirror_mode": {
    "name": "ipython",
    "version": 3
   },
   "file_extension": ".py",
   "mimetype": "text/x-python",
   "name": "python",
   "nbconvert_exporter": "python",
   "pygments_lexer": "ipython3",
   "version": "3.11.7"
  }
 },
 "nbformat": 4,
 "nbformat_minor": 5
}
